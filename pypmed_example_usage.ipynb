{
  "cells": [
    {
      "attachments": {},
      "cell_type": "markdown",
      "metadata": {},
      "source": [
        "# pypmed example"
      ]
    },
    {
      "cell_type": "code",
      "execution_count": 82,
      "metadata": {},
      "outputs": [],
      "source": [
        "!pip install pypmed"
      ]
    },
    {
      "cell_type": "code",
      "execution_count": 83,
      "metadata": {},
      "outputs": [
        {
          "name": "stdout",
          "output_type": "stream",
          "text": [
            "a\n",
            "b\n"
          ]
        }
      ],
      "source": [
        "from pypmed import apis \n",
        "\n",
        "search_criteria = {'author_first_name': 'rachel', \n",
        "                   'author_last_name': 'gottschalk', \n",
        "                   'institution':  'university of pittsburgh at pittsburgh',\n",
        "                   'publication_year': 2022\n",
        "                   }\n",
        "\n",
        "response = apis.query_pubmed_api(search_criteria=search_criteria)"
      ]
    },
    {
      "cell_type": "code",
      "execution_count": 84,
      "metadata": {},
      "outputs": [
        {
          "data": {
            "text/plain": [
              "[{'pmid': '35063833',\n",
              "  'journal_issn': '1879-0372',\n",
              "  'journal_title': 'Current opinion in immunology',\n",
              "  'article_title': 'Mechanisms encoding STAT functional diversity for context-specific inflammatory responses.',\n",
              "  'publication_year': '2022',\n",
              "  'author_first_name': 'rachel',\n",
              "  'author_last_name': 'gottschalk',\n",
              "  'institution': 'university of pittsburgh at pittsburgh'}]"
            ]
          },
          "execution_count": 84,
          "metadata": {},
          "output_type": "execute_result"
        }
      ],
      "source": [
        "response\n"
      ]
    }
  ],
  "metadata": {
    "colab": {
      "include_colab_link": true,
      "provenance": []
    },
    "kernelspec": {
      "display_name": "Python 3",
      "language": "python",
      "name": "python3"
    },
    "language_info": {
      "codemirror_mode": {
        "name": "ipython",
        "version": 3
      },
      "file_extension": ".py",
      "mimetype": "text/x-python",
      "name": "python",
      "nbconvert_exporter": "python",
      "pygments_lexer": "ipython3",
      "version": "3.9.1"
    },
    "orig_nbformat": 4
  },
  "nbformat": 4,
  "nbformat_minor": 0
}
