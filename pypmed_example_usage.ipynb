{
  "cells": [
    {
      "attachments": {},
      "cell_type": "markdown",
      "metadata": {},
      "source": [
        "# pypmed"
      ]
    },
    {
      "cell_type": "code",
      "execution_count": 61,
      "metadata": {},
      "outputs": [],
      "source": [
        "import requests\n",
        "from xml.etree import ElementTree as ET\n",
        "from datetime import datetime\n",
        "from thefuzz import fuzz\n",
        "current_year = datetime.now().year\n",
        "\n",
        "\n",
        "def institution_check(institution: str, \n",
        "                      affiliation_info: str) -> int:\n",
        "    # define score \n",
        "    overall_score = 0\n",
        "    institution_split = institution.split()\n",
        "    aff_split = affiliation_info.lower().split()\n",
        "    \n",
        "    # loop through each word in the institution name, check match with each word in the affiliation info\n",
        "    for u in institution_split:\n",
        "        ind_best=0\n",
        "        val_best = 0\n",
        "        for i, a in enumerate(aff_split):\n",
        "            s = fuzz.ratio(u, a)\n",
        "            if s > val_best:\n",
        "                val_best = s\n",
        "                ind_best = i\n",
        "        \n",
        "        # remove index of best match\n",
        "        overall_score += val_best\n",
        "        del aff_split[ind_best]\n",
        "    # average overall score\n",
        "    overall_score /= len(institution_split)\n",
        "    return overall_score\n",
        "\n",
        "\n",
        "def name_score(query_author_name: str, \n",
        "               author_list_name: str) -> int:    \n",
        "    return fuzz.ratio(query_author_name, author_list_name)\n",
        "\n",
        "\n",
        "# function to convert XML ElementTree element to a dictionary\n",
        "def elem_to_dict(elem):\n",
        "    if len(elem) == 0:\n",
        "        return elem.text\n",
        "    d = {}\n",
        "    for child in elem:\n",
        "        child_dict = elem_to_dict(child)\n",
        "        if child.tag in d:\n",
        "            if isinstance(d[child.tag], list):\n",
        "                d[child.tag].append(child_dict)\n",
        "            else:\n",
        "                d[child.tag] = [d[child.tag], child_dict]\n",
        "        else:\n",
        "            d[child.tag] = child_dict\n",
        "    return d\n",
        "        \n",
        "def build_query_string(search_criteria: dict) -> str:\n",
        "    # build query string\n",
        "    search_string = \"\"\n",
        "    if 'author_first_name' in search_criteria.keys() or 'author_last_name' in search_criteria.keys():\n",
        "        if \"author_first_name\" in search_criteria.keys():\n",
        "            search_string += f'{search_criteria[\"author_first_name\"]} '\n",
        "        if \"author_last_name\" in search_criteria.keys():\n",
        "            search_string += f'{search_criteria[\"author_last_name\"]} '\n",
        "        search_string = search_string[:-1] + '[Author] '\n",
        "            \n",
        "    if \"publication_year\" in search_criteria.keys():\n",
        "        search_string += f'{search_criteria[\"publication_year\"]}[PDAT] '\n",
        "    \n",
        "    if \"journal\" in search_criteria.keys():\n",
        "        search_string += f'{search_criteria[\"journal\"]}[Journal]'\n",
        "        \n",
        "    search_string = search_string.strip()\n",
        "    return search_string\n",
        "\n",
        "\n",
        "def author_metadata_filter(author_metadata: dict, \n",
        "                           article_dict: dict,\n",
        "                           author_list) -> list:\n",
        "    # unpack current metadata\n",
        "    author_query_name = author_metadata['author_first_name'] + ' ' + author_metadata['author_last_name']\n",
        "    institution = author_metadata['institution']\n",
        "    \n",
        "    # loop over authors in author list and calculate score\n",
        "    best_match = None\n",
        "    best_score = 0\n",
        "    for item in author_list:\n",
        "        # create author name\n",
        "        last_name = item['LastName'].lower()\n",
        "        first_name = item['ForeName'].lower()\n",
        "        author_list_name = first_name + ' ' + last_name\n",
        "        \n",
        "        # compute score\n",
        "        score = name_score(author_query_name, author_list_name)\n",
        "        \n",
        "        # check if score is better than previous best\n",
        "        if score > best_score and score > 80:\n",
        "            best_score = score\n",
        "            best_match = item\n",
        "            \n",
        "    # check if best match for name is not None - if so article is confirmed for author\n",
        "    if best_match is not None:\n",
        "        # add author info to article package\n",
        "        article_dict['author_first_name'] = author_metadata['author_first_name']\n",
        "        article_dict['author_last_name'] = author_metadata['author_last_name']\n",
        "                \n",
        "        # check affiliation if provided \n",
        "        if institution is not None:\n",
        "            affiliation_info = best_match['AffiliationInfo']['Affiliation']\n",
        "            score = institution_check(institution, affiliation_info)\n",
        "            if score > 80:\n",
        "                # author and institution confirmed - add to return list\n",
        "                article_dict['institution'] = institution\n",
        "                            \n",
        "        return article_dict\n",
        "    return None\n",
        "                            \n",
        "\n",
        "def query_pubmed(search_criteria: dict, limit: int = 10):\n",
        "    # unpack institution if present - not a search criteria for official pubmed api\n",
        "    institution = None\n",
        "    if 'institution' in search_criteria.keys():\n",
        "        institution = search_criteria['institution']\n",
        "    \n",
        "    # build query string from input search_criteria\n",
        "    query_str = build_query_string(search_criteria)\n",
        "            \n",
        "    # setup api endpoint to retrieve pubmed ids based on input query\n",
        "    endpoint_url = 'https://eutils.ncbi.nlm.nih.gov/entrez/eutils/esearch.fcgi'\n",
        "    params = {\n",
        "        'db': 'pubmed',\n",
        "        'term': f'{query_str}',\n",
        "        'retmode': 'json'\n",
        "    }\n",
        "\n",
        "    # Make API request and retrieve json response with ids\n",
        "    response = requests.get(endpoint_url, params=params)\n",
        "    \n",
        "    # if response is ok, retrieve the ids and use them to retrieve the desired fields for each article\n",
        "    if response.ok:\n",
        "        data = response.json()\n",
        "        id_list = data[\"esearchresult\"][\"idlist\"]\n",
        "        \n",
        "        # Use the IDs to retrieve the desired fields for each article\n",
        "        url = \"https://eutils.ncbi.nlm.nih.gov/entrez/eutils/efetch.fcgi\"\n",
        "        params = {\n",
        "            \"db\": \"pubmed\",\n",
        "            \"id\": \",\".join(id_list),\n",
        "            \"retmode\": \"xml\", # return type - supposedly can be json but couldn't get this return type in my tests\n",
        "            # \"rettype\": \"abstract\"\n",
        "        }\n",
        "        \n",
        "        # make request\n",
        "        response = requests.get(url, params=params)\n",
        "        \n",
        "        # if response is ok, parse the xml and convert to a dictionary\n",
        "        if response.ok:\n",
        "            # Parse the XML file\n",
        "            root = ET.fromstring(response.text)\n",
        "\n",
        "            # Convert the root element to a dictionary\n",
        "            article_list = []\n",
        "            try:\n",
        "                article_list = elem_to_dict(root)['PubmedArticle']\n",
        "                if not isinstance(article_list, list):\n",
        "                    article_list = [article_list]\n",
        "            except:\n",
        "                print(f\"No articles found for search criteria: {search_criteria}\")\n",
        "                return None\n",
        "                \n",
        "            # filter articles by checking that desired author / institution is present            \n",
        "            final_articles = []\n",
        "            for article in article_list:\n",
        "                # generate example\n",
        "                pmid = article['MedlineCitation']['PMID']\n",
        "                journal_issn = article['MedlineCitation']['Article']['Journal']['ISSN']\n",
        "                journal_title = article['MedlineCitation']['Article']['Journal']['Title']\n",
        "                article_title = article['MedlineCitation']['Article']['ArticleTitle']\n",
        "                publication_year = article['MedlineCitation']['Article']['Journal']['JournalIssue']['PubDate']['Year']\n",
        "                author_list = article['MedlineCitation']['Article']['AuthorList']['Author']\n",
        "\n",
        "                # start article package\n",
        "                article_dict = {}\n",
        "                article_dict['pmid'] = pmid\n",
        "                article_dict['journal_issn'] = journal_issn\n",
        "                article_dict['journal_title'] = journal_title\n",
        "                article_dict['article_title'] = article_title\n",
        "                article_dict['publication_year'] = publication_year\n",
        "\n",
        "                # if author search - perform filtering (double check that correct author is pulled)\n",
        "                if search_criteria['author_first_name'] is not None and search_criteria['author_last_name'] is not None:\n",
        "                    # package author info for filter\n",
        "                    author_metadata = {}\n",
        "                    author_metadata['author_first_name'] = search_criteria['author_first_name']\n",
        "                    author_metadata['author_last_name'] = search_criteria['author_last_name']\n",
        "                    author_metadata['institution'] = institution\n",
        "                    \n",
        "                    # apply filter\n",
        "                    filtered_article = author_metadata_filter(author_metadata, article_dict, author_list)\n",
        "                    \n",
        "                    # store \n",
        "                    if filtered_article is not None:\n",
        "                        final_articles.append(filtered_article)\n",
        "                else:\n",
        "                    article_dict['author_list'] = author_list\n",
        "                    final_articles.append(article_dict)\n",
        "                \n",
        "                return final_articles\n",
        "        return None"
      ]
    },
    {
      "cell_type": "code",
      "execution_count": 64,
      "metadata": {},
      "outputs": [],
      "source": [
        "search_criteria = {'author_first_name': 'rachel', \n",
        "                   'author_last_name': 'gottschalk', \n",
        "                   'publication_year': 2022,\n",
        "                   'institution':  'university of pittsburgh at pittsburgh'\n",
        "                   }\n",
        "response = query_pubmed(search_criteria=search_criteria)"
      ]
    },
    {
      "cell_type": "code",
      "execution_count": 65,
      "metadata": {},
      "outputs": [
        {
          "data": {
            "text/plain": [
              "[{'pmid': '35063833',\n",
              "  'journal_issn': '1879-0372',\n",
              "  'journal_title': 'Current opinion in immunology',\n",
              "  'article_title': 'Mechanisms encoding STAT functional diversity for context-specific inflammatory responses.',\n",
              "  'publication_year': '2022',\n",
              "  'author_first_name': 'rachel',\n",
              "  'author_last_name': 'gottschalk',\n",
              "  'institution': 'university of pittsburgh at pittsburgh'}]"
            ]
          },
          "execution_count": 65,
          "metadata": {},
          "output_type": "execute_result"
        }
      ],
      "source": [
        "response\n"
      ]
    },
    {
      "cell_type": "code",
      "execution_count": 7,
      "metadata": {},
      "outputs": [
        {
          "data": {
            "text/plain": [
              "27"
            ]
          },
          "execution_count": 7,
          "metadata": {},
          "output_type": "execute_result"
        }
      ],
      "source": [
        "university = 'university of pittsburgh at pittsburgh'\n",
        "affiliation_info = author_['AffiliationInfo']['Affiliation']\n",
        "fuzz.ratio(university, affiliation_info.lower())"
      ]
    },
    {
      "cell_type": "code",
      "execution_count": 6,
      "metadata": {},
      "outputs": [
        {
          "data": {
            "text/plain": [
              "'rachel'"
            ]
          },
          "execution_count": 6,
          "metadata": {},
          "output_type": "execute_result"
        }
      ],
      "source": [
        "search_criteria['author_first_name']"
      ]
    },
    {
      "cell_type": "code",
      "execution_count": 18,
      "metadata": {},
      "outputs": [],
      "source": [
        "example = response[0]\n"
      ]
    },
    {
      "cell_type": "code",
      "execution_count": 19,
      "metadata": {},
      "outputs": [
        {
          "data": {
            "text/plain": [
              "1"
            ]
          },
          "execution_count": 19,
          "metadata": {},
          "output_type": "execute_result"
        }
      ],
      "source": [
        "len(response)"
      ]
    },
    {
      "cell_type": "code",
      "execution_count": 12,
      "metadata": {},
      "outputs": [],
      "source": []
    },
    {
      "cell_type": "code",
      "execution_count": null,
      "metadata": {},
      "outputs": [],
      "source": []
    },
    {
      "cell_type": "code",
      "execution_count": 42,
      "metadata": {},
      "outputs": [],
      "source": [
        "\n",
        "                    \n",
        "        "
      ]
    },
    {
      "cell_type": "code",
      "execution_count": 43,
      "metadata": {},
      "outputs": [
        {
          "data": {
            "text/plain": [
              "{'LastName': 'Gottschalk',\n",
              " 'ForeName': 'Rachel A',\n",
              " 'Initials': 'RA',\n",
              " 'AffiliationInfo': {'Affiliation': 'Department of Immunology, University of Pittsburgh School of Medicine, University of Pittsburgh, Pittsburgh, PA, USA; Center for Systems Immunology, University of Pittsburgh, Pittsburgh, PA, USA. Electronic address: rachel.gottschalk@pitt.edu.'}}"
            ]
          },
          "execution_count": 43,
          "metadata": {},
          "output_type": "execute_result"
        }
      ],
      "source": [
        "best_match"
      ]
    },
    {
      "cell_type": "code",
      "execution_count": 45,
      "metadata": {},
      "outputs": [
        {
          "name": "stdout",
          "output_type": "stream",
          "text": [
            "Found match with score 87.0\n"
          ]
        }
      ],
      "source": [
        "institution = 'university of pittsburgh at pittsburgh'\n",
        "\n",
        "\n"
      ]
    },
    {
      "cell_type": "code",
      "execution_count": null,
      "metadata": {},
      "outputs": [],
      "source": [
        " institution_check(institution, affiliation_info)"
      ]
    },
    {
      "cell_type": "code",
      "execution_count": 22,
      "metadata": {},
      "outputs": [
        {
          "data": {
            "text/plain": [
              "87.0"
            ]
          },
          "execution_count": 22,
          "metadata": {},
          "output_type": "execute_result"
        }
      ],
      "source": [
        "    author_ = author_list['Author'][1]\n",
        "    last_name = author_['LastName'].lower()\n",
        "    first_name = author_['ForeName'].lower()\n",
        "\n",
        "overall_score"
      ]
    }
  ],
  "metadata": {
    "colab": {
      "include_colab_link": true,
      "provenance": []
    },
    "kernelspec": {
      "display_name": "Python 3",
      "language": "python",
      "name": "python3"
    },
    "language_info": {
      "codemirror_mode": {
        "name": "ipython",
        "version": 3
      },
      "file_extension": ".py",
      "mimetype": "text/x-python",
      "name": "python",
      "nbconvert_exporter": "python",
      "pygments_lexer": "ipython3",
      "version": "3.9.1"
    },
    "orig_nbformat": 4
  },
  "nbformat": 4,
  "nbformat_minor": 0
}
