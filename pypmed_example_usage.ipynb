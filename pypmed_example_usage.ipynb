{
  "cells": [
    {
      "attachments": {},
      "cell_type": "markdown",
      "metadata": {},
      "source": [
        "# pypmed"
      ]
    },
    {
      "cell_type": "code",
      "execution_count": 1,
      "metadata": {},
      "outputs": [],
      "source": [
        "import requests\n",
        "from xml.etree import ElementTree as ET\n",
        "from datetime import datetime\n",
        "from thefuzz import fuzz\n",
        "current_year = datetime.now().year\n",
        "\n",
        "# function to convert XML ElementTree element to a dictionary\n",
        "def elem_to_dict(elem):\n",
        "    if len(elem) == 0:\n",
        "        return elem.text\n",
        "    d = {}\n",
        "    for child in elem:\n",
        "        child_dict = elem_to_dict(child)\n",
        "        if child.tag in d:\n",
        "            if isinstance(d[child.tag], list):\n",
        "                d[child.tag].append(child_dict)\n",
        "            else:\n",
        "                d[child.tag] = [d[child.tag], child_dict]\n",
        "        else:\n",
        "            d[child.tag] = child_dict\n",
        "    return d\n",
        "        \n",
        "def build_query_string(search_criteria: dict) -> str:\n",
        "    # build query string\n",
        "    search_string = \"\"\n",
        "    if 'author_first_name' in search_criteria.keys() or 'author_last_name' in search_criteria.keys():\n",
        "        if \"author_first_name\" in search_criteria.keys():\n",
        "            search_string += f'{search_criteria[\"author_first_name\"]} '\n",
        "        if \"author_last_name\" in search_criteria.keys():\n",
        "            search_string += f'{search_criteria[\"author_last_name\"]} '\n",
        "        search_string = search_string[:-1] + '[Author] '\n",
        "            \n",
        "    if \"publication_year\" in search_criteria.keys():\n",
        "        search_string += f'{search_criteria[\"publication_year\"]}[PDAT] '\n",
        "    \n",
        "    if \"journal\" in search_criteria.keys():\n",
        "        search_string += f'{search_criteria[\"journal\"]}[Journal]'\n",
        "        \n",
        "    search_string = search_string.strip()\n",
        "    return search_string\n",
        "\n",
        "\n",
        "def query_pubmed(search_criteria: dict, limit: int = 10):\n",
        "    # build query string from input search_criteria\n",
        "    query_str = build_query_string(search_criteria)\n",
        "            \n",
        "    # setup api endpoint to retrieve pubmed ids based on input query\n",
        "    endpoint_url = 'https://eutils.ncbi.nlm.nih.gov/entrez/eutils/esearch.fcgi'\n",
        "    params = {\n",
        "        'db': 'pubmed',\n",
        "        'term': f'{query_str}',\n",
        "        'retmode': 'json'\n",
        "    }\n",
        "\n",
        "    # Make API request and retrieve json response with ids\n",
        "    response = requests.get(endpoint_url, params=params)\n",
        "    \n",
        "    # if response is ok, retrieve the ids and use them to retrieve the desired fields for each article\n",
        "    if response.ok:\n",
        "        data = response.json()\n",
        "        id_list = data[\"esearchresult\"][\"idlist\"]\n",
        "        \n",
        "        # Use the IDs to retrieve the desired fields for each article\n",
        "        url = \"https://eutils.ncbi.nlm.nih.gov/entrez/eutils/efetch.fcgi\"\n",
        "        params = {\n",
        "            \"db\": \"pubmed\",\n",
        "            \"id\": \",\".join(id_list),\n",
        "            \"retmode\": \"xml\", # return type - supposedly can be json but couldn't get this return type in my tests\n",
        "            # \"rettype\": \"abstract\"\n",
        "        }\n",
        "        \n",
        "        # make request\n",
        "        response = requests.get(url, params=params)\n",
        "        print('a')\n",
        "        \n",
        "        # if response is ok, parse the xml and convert to a dictionary\n",
        "        if response.ok:\n",
        "            # # Parse the XML file\n",
        "            root = ET.fromstring(response.text)\n",
        "\n",
        "            # Convert the root element to a dictionary\n",
        "            article_list = []\n",
        "            try:\n",
        "                article_list = elem_to_dict(root)['PubmedArticle']\n",
        "                if not isinstance(article_list, list):\n",
        "                    article_list = [article_list]\n",
        "            except:\n",
        "                print(f\"No articles found for search criteria: {search_criteria}\")\n",
        "            return article_list\n"
      ]
    },
    {
      "cell_type": "code",
      "execution_count": 2,
      "metadata": {},
      "outputs": [
        {
          "name": "stdout",
          "output_type": "stream",
          "text": [
            "a\n"
          ]
        }
      ],
      "source": [
        "search_criteria = {'author_first_name': 'rachel', \n",
        "                   'author_last_name': 'gottschalk', \n",
        "                   'publication_year': 2022\n",
        "                   }\n",
        "response = query_pubmed(search_criteria=search_criteria)"
      ]
    },
    {
      "cell_type": "code",
      "execution_count": 3,
      "metadata": {},
      "outputs": [],
      "source": [
        "example = response[0]"
      ]
    },
    {
      "cell_type": "code",
      "execution_count": 4,
      "metadata": {},
      "outputs": [
        {
          "data": {
            "text/plain": [
              "dict_keys(['PMID', 'DateCompleted', 'DateRevised', 'Article', 'MedlineJournalInfo', 'ChemicalList', 'CitationSubset', 'MeshHeadingList'])"
            ]
          },
          "execution_count": 4,
          "metadata": {},
          "output_type": "execute_result"
        }
      ],
      "source": [
        "pmid = example['MedlineCitation']['PMID']\n",
        "author_list = example['MedlineCitation']['Article']['AuthorList']\n",
        "example['MedlineCitation'].keys()"
      ]
    },
    {
      "cell_type": "code",
      "execution_count": 5,
      "metadata": {},
      "outputs": [],
      "source": [
        "author_ = author_list['Author'][1]\n",
        "last_name = author_['LastName'].lower()\n",
        "first_name = author_['ForeName'].lower()"
      ]
    },
    {
      "cell_type": "code",
      "execution_count": 12,
      "metadata": {},
      "outputs": [
        {
          "data": {
            "text/plain": [
              "27"
            ]
          },
          "execution_count": 12,
          "metadata": {},
          "output_type": "execute_result"
        }
      ],
      "source": [
        "university = 'university of pittsburgh at pittsburgh'\n",
        "affiliation_info = author_['AffiliationInfo']['Affiliation']\n",
        "fuzz.ratio(university, affiliation_info.lower())"
      ]
    },
    {
      "cell_type": "code",
      "execution_count": 6,
      "metadata": {},
      "outputs": [
        {
          "data": {
            "text/plain": [
              "'rachel'"
            ]
          },
          "execution_count": 6,
          "metadata": {},
          "output_type": "execute_result"
        }
      ],
      "source": [
        "search_criteria['author_first_name']"
      ]
    },
    {
      "cell_type": "code",
      "execution_count": 7,
      "metadata": {},
      "outputs": [
        {
          "data": {
            "text/plain": [
              "94"
            ]
          },
          "execution_count": 7,
          "metadata": {},
          "output_type": "execute_result"
        }
      ],
      "source": [
        "from thefuzz import fuzz\n",
        "\n",
        "fuzz.ratio(search_criteria['author_first_name'] + search_criteria['author_last_name'], first_name + last_name)"
      ]
    },
    {
      "cell_type": "code",
      "execution_count": 14,
      "metadata": {},
      "outputs": [
        {
          "data": {
            "text/plain": [
              "('e', 60)"
            ]
          },
          "execution_count": 14,
          "metadata": {},
          "output_type": "execute_result"
        }
      ],
      "source": [
        "from thefuzz import process\n",
        "process.extractOne(university, affiliation_info.lower())"
      ]
    },
    {
      "cell_type": "code",
      "execution_count": 21,
      "metadata": {},
      "outputs": [],
      "source": [
        "university\n",
        "overall_score = 0\n",
        "university_split = university.split()\n",
        "aff_split = affiliation_info.lower().split()\n",
        "for u in university_split:\n",
        "    ind_best=0\n",
        "    val_best = 0\n",
        "    for i, a in enumerate(aff_split):\n",
        "        s = fuzz.ratio(u, a)\n",
        "        if s > val_best:\n",
        "            val_best = s\n",
        "            ind_best = i\n",
        "    \n",
        "    # remove index of best match\n",
        "    overall_score += val_best\n",
        "    del aff_split[ind_best]\n",
        "# average overall score\n",
        "overall_score /= len(university_split)"
      ]
    },
    {
      "cell_type": "code",
      "execution_count": 22,
      "metadata": {},
      "outputs": [
        {
          "data": {
            "text/plain": [
              "87.0"
            ]
          },
          "execution_count": 22,
          "metadata": {},
          "output_type": "execute_result"
        }
      ],
      "source": [
        "overall_score"
      ]
    }
  ],
  "metadata": {
    "colab": {
      "include_colab_link": true,
      "provenance": []
    },
    "kernelspec": {
      "display_name": "Python 3",
      "language": "python",
      "name": "python3"
    },
    "language_info": {
      "codemirror_mode": {
        "name": "ipython",
        "version": 3
      },
      "file_extension": ".py",
      "mimetype": "text/x-python",
      "name": "python",
      "nbconvert_exporter": "python",
      "pygments_lexer": "ipython3",
      "version": "3.9.1"
    },
    "orig_nbformat": 4
  },
  "nbformat": 4,
  "nbformat_minor": 0
}
