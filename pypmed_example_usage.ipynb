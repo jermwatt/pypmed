{
  "cells": [
    {
      "cell_type": "markdown",
      "metadata": {
        "id": "view-in-github",
        "colab_type": "text"
      },
      "source": [
        "<a href=\"https://colab.research.google.com/github/jermwatt/pypmed/blob/main/pypmed_example_usage.ipynb\" target=\"_parent\"><img src=\"https://colab.research.google.com/assets/colab-badge.svg\" alt=\"Open In Colab\"/></a>"
      ]
    },
    {
      "cell_type": "markdown",
      "metadata": {
        "id": "rjLZQ2Aco8ZW"
      },
      "source": [
        "# pypmed example"
      ]
    },
    {
      "cell_type": "code",
      "execution_count": 1,
      "metadata": {
        "id": "APdEPiLJo8ZX",
        "outputId": "4bdcc158-1612-4c9f-88e6-80da00089146",
        "colab": {
          "base_uri": "https://localhost:8080/"
        }
      },
      "outputs": [
        {
          "output_type": "stream",
          "name": "stdout",
          "text": [
            "Looking in indexes: https://pypi.org/simple, https://us-python.pkg.dev/colab-wheels/public/simple/\n",
            "Collecting pypmed\n",
            "  Downloading pypmed-0.1.4-py3-none-any.whl (5.9 kB)\n",
            "Collecting requests<3.0.0,>=2.28.2\n",
            "  Downloading requests-2.29.0-py3-none-any.whl (62 kB)\n",
            "\u001b[2K     \u001b[90m━━━━━━━━━━━━━━━━━━━━━━━━━━━━━━━━━━━━━━━━\u001b[0m \u001b[32m62.5/62.5 kB\u001b[0m \u001b[31m2.8 MB/s\u001b[0m eta \u001b[36m0:00:00\u001b[0m\n",
            "\u001b[?25hCollecting rapidfuzz<4.0.0,>=3.0.0\n",
            "  Downloading rapidfuzz-3.0.0-cp39-cp39-manylinux_2_17_x86_64.manylinux2014_x86_64.whl (3.1 MB)\n",
            "\u001b[2K     \u001b[90m━━━━━━━━━━━━━━━━━━━━━━━━━━━━━━━━━━━━━━━━\u001b[0m \u001b[32m3.1/3.1 MB\u001b[0m \u001b[31m14.7 MB/s\u001b[0m eta \u001b[36m0:00:00\u001b[0m\n",
            "\u001b[?25hRequirement already satisfied: urllib3<1.27,>=1.21.1 in /usr/local/lib/python3.9/dist-packages (from requests<3.0.0,>=2.28.2->pypmed) (1.26.15)\n",
            "Requirement already satisfied: certifi>=2017.4.17 in /usr/local/lib/python3.9/dist-packages (from requests<3.0.0,>=2.28.2->pypmed) (2022.12.7)\n",
            "Requirement already satisfied: idna<4,>=2.5 in /usr/local/lib/python3.9/dist-packages (from requests<3.0.0,>=2.28.2->pypmed) (3.4)\n",
            "Requirement already satisfied: charset-normalizer<4,>=2 in /usr/local/lib/python3.9/dist-packages (from requests<3.0.0,>=2.28.2->pypmed) (2.0.12)\n",
            "Installing collected packages: requests, rapidfuzz, pypmed\n",
            "  Attempting uninstall: requests\n",
            "    Found existing installation: requests 2.27.1\n",
            "    Uninstalling requests-2.27.1:\n",
            "      Successfully uninstalled requests-2.27.1\n",
            "Successfully installed pypmed-0.1.4 rapidfuzz-3.0.0 requests-2.29.0\n"
          ]
        }
      ],
      "source": [
        "!pip install pypmed"
      ]
    },
    {
      "cell_type": "code",
      "execution_count": 2,
      "metadata": {
        "id": "PhChPhGUo8ZX"
      },
      "outputs": [],
      "source": [
        "from pypmed import apis \n",
        "\n",
        "search_criteria = {'author_first_name': 'rachel', \n",
        "                   'author_last_name': 'gottschalk', \n",
        "                   'institution':  'university of pittsburgh at pittsburgh',\n",
        "                   'publication_year': 2022\n",
        "                   }\n",
        "\n",
        "response = apis.query_pubmed_api(search_criteria=search_criteria)"
      ]
    },
    {
      "cell_type": "code",
      "execution_count": 3,
      "metadata": {
        "id": "8TBhToBJo8ZY",
        "outputId": "ba27ad7e-ea5c-4c11-b7e6-fc35ff3c63b1",
        "colab": {
          "base_uri": "https://localhost:8080/"
        }
      },
      "outputs": [
        {
          "output_type": "execute_result",
          "data": {
            "text/plain": [
              "[{'pmid': '35063833',\n",
              "  'journal_issn': '1879-0372',\n",
              "  'journal_title': 'Current opinion in immunology',\n",
              "  'article_title': 'Mechanisms encoding STAT functional diversity for context-specific inflammatory responses.',\n",
              "  'publication_year': '2022',\n",
              "  'author_first_name': 'rachel',\n",
              "  'author_last_name': 'gottschalk',\n",
              "  'institution': 'university of pittsburgh at pittsburgh'}]"
            ]
          },
          "metadata": {},
          "execution_count": 3
        }
      ],
      "source": [
        "response"
      ]
    }
  ],
  "metadata": {
    "colab": {
      "provenance": [],
      "include_colab_link": true
    },
    "kernelspec": {
      "display_name": "Python 3",
      "language": "python",
      "name": "python3"
    },
    "language_info": {
      "codemirror_mode": {
        "name": "ipython",
        "version": 3
      },
      "file_extension": ".py",
      "mimetype": "text/x-python",
      "name": "python",
      "nbconvert_exporter": "python",
      "pygments_lexer": "ipython3",
      "version": "3.9.1"
    },
    "orig_nbformat": 4
  },
  "nbformat": 4,
  "nbformat_minor": 0
}